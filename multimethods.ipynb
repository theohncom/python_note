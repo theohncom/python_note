{
 "cells": [
  {
   "cell_type": "markdown",
   "id": "d2313ca0",
   "metadata": {},
   "source": [
    "## Multiple dispatch\n",
    "\n",
    "The multimethods are also called multiple dispatch:"
   ]
  },
  {
   "cell_type": "code",
   "execution_count": null,
   "id": "da459a91",
   "metadata": {},
   "outputs": [],
   "source": []
  },
  {
   "cell_type": "code",
   "execution_count": null,
   "id": "7c9a094a",
   "metadata": {},
   "outputs": [],
   "source": []
  },
  {
   "cell_type": "markdown",
   "id": "7f781317",
   "metadata": {},
   "source": [
    "#### References\n",
    "[1] https://stackoverflow.com/questions/6434482/python-function-overloading/29091980"
   ]
  }
 ],
 "metadata": {
  "kernelspec": {
   "display_name": "Python 3",
   "language": "python",
   "name": "python3"
  },
  "language_info": {
   "codemirror_mode": {
    "name": "ipython",
    "version": 3
   },
   "file_extension": ".py",
   "mimetype": "text/x-python",
   "name": "python",
   "nbconvert_exporter": "python",
   "pygments_lexer": "ipython3",
   "version": "3.7.3"
  }
 },
 "nbformat": 4,
 "nbformat_minor": 5
}

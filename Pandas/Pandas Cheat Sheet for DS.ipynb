{
 "cells": [
  {
   "cell_type": "markdown",
   "id": "1de291c9",
   "metadata": {},
   "source": [
    "# Pandas Cheat Sheet for DS"
   ]
  },
  {
   "cell_type": "code",
   "execution_count": 2,
   "id": "d68e5dcd",
   "metadata": {},
   "outputs": [
    {
     "name": "stdout",
     "output_type": "stream",
     "text": [
      "3.7.3 (default, Apr 24 2019, 15:29:51) [MSC v.1915 64 bit (AMD64)]\n",
      "sys.version_info(major=3, minor=7, micro=3, releaselevel='final', serial=0)\n"
     ]
    }
   ],
   "source": [
    "import sys\n",
    "print(sys.version)\n",
    "print(sys.version_info)"
   ]
  },
  {
   "cell_type": "code",
   "execution_count": 3,
   "id": "fc0453b1",
   "metadata": {},
   "outputs": [],
   "source": [
    "#import require libs\n",
    "import pandas as pd\n",
    "import numpy as np"
   ]
  },
  {
   "cell_type": "markdown",
   "id": "0fec99f2",
   "metadata": {},
   "source": [
    "### shorthand\n",
    "- __df__ | Any pandas DataFrame object\n",
    "- __s__ | Any pandas Series object"
   ]
  },
  {
   "cell_type": "markdown",
   "id": "1024da02",
   "metadata": {},
   "source": [
    "### Importing Data \n",
    "Pandas provides many commands to import data from a variety of different sources and formats.\n",
    "\n",
    "- ***pd.read_csv(filename)***  | From a CSV file\n",
    "- ***pd.read_table(filename)*** | From a delimited text file (like TSV)\n",
    "- ***pd.read_excel(filename)*** | From an Excel file\n",
    "- ***pd.read_sql(query, connection_object)*** | Read from a SQL table/database\n",
    "- ***pd.read_json(json_string)*** | Read from a JSON formatted string, URL or file.\n",
    "- ***pd.read_html(url)*** | Parses an html URL, string or file and extracts tables to a list of dataframes\n",
    "- ***pd.read_clipboard()*** | Takes the contents of your clipboard and passes it to read_table()\n",
    "- ***pd.DataFrame(dict)*** | From a dict, keys for columns names, values for data as lists"
   ]
  },
  {
   "cell_type": "markdown",
   "id": "519ee7bc",
   "metadata": {},
   "source": [
    "### Exporting Data\n",
    "Pandas can export a DataFrame to CSV, .xlsx, SQL, or JSON.\n",
    "\n",
    "- ***df.to_csv(filename)*** | Write to a CSV file\n",
    "- ***df.to_excel(filename)*** | Write to an Excel file\n",
    "- ***df.to_sql(table_name, connection_object)*** | Write to a SQL table\n",
    "- ***df.to_json(filename)*** | Write to a file in JSON format"
   ]
  },
  {
   "cell_type": "markdown",
   "id": "2742d01e",
   "metadata": {},
   "source": [
    "### Viewing/Inspecting Data\n",
    "Use these commands to take a look at specific sections of your pandas DataFrame or Series.\n",
    "\n",
    "- ***df.head(n)*** | First n rows of the DataFrame\n",
    "- ***df.tail(n)*** | Last n rows of the DataFrame\n",
    "- ***df.shape*** | Number of rows and columns\n",
    "- ***df.dtypes*** | Datatype information\n",
    "-  ***df.info()*** | Index, Datatype and Memory information\n",
    "- ***df.describe()*** | Summary statistics for numerical columns\n",
    "- ***s.value_counts(dropna=False)*** | View unique values and counts\n",
    "- ***df.apply(pd.Series.value_counts)*** | Unique values and counts for all columns"
   ]
  },
  {
   "cell_type": "markdown",
   "id": "4ee165f2",
   "metadata": {},
   "source": [
    "### Selection\n",
    "Use these commands to select a specific subset of your data.\n",
    "\n",
    "- ***df[col]*** | Returns column with label col as Series\n",
    "- ***df[[col1, col2]]*** | Returns columns as a new DataFrame\n",
    "- ***s.iloc[0]*** | Selection by position\n",
    "- ***s.loc['index_one']*** | Selection by index\n",
    "- ***df.iloc[0,:]*** | First row\n",
    "- ***df.iloc[0,0]*** | First element of first column\n",
    "- ***df.iloc[0:2, 0:2]***| Selecting specific rows and cols  "
   ]
  },
  {
   "cell_type": "markdown",
   "id": "cca58304",
   "metadata": {},
   "source": [
    "### Data Cleaning: check null, rename col, missing value handling\n",
    "Use these commands to perform a variety of data cleaning tasks.\n",
    "\n",
    "- ***df.columns = ['a','b','c']*** | Rename columns\n",
    "- ***pd.isnull()*** | Checks for null Values, Returns Boolean Arrray\n",
    "- ***df.isnull().any()*** | Checks if there is a null value in columns\n",
    "- ***df.isnull().sum()*** | Show number of null value in columns\n",
    "- ***pd.notnull()*** | Opposite of pd.isnull()\n",
    "- ***df.dropna()*** | Drop all rows that contain null values\n",
    "- ***df.dropna(axis=1)*** | Drop all columns that contain null values\n",
    "- ***df.dropna(axis=1,thresh=n)*** | Drop all rows have have less than n non null values\n",
    "- ***df.fillna(x)*** | Replace all null values with x\n",
    "- ***s.fillna(s.mean())*** | Replace all null values with the mean (mean can be replaced with almost any function from the statistics module)\n",
    "- ***s.astype(float)*** | Convert the datatype of the series to float\n",
    "- ***df.astype({\"Column_name\": str}, errors='raise')*** | Cast a pandas object to a specified dtype\n",
    "- ***s.replace(1,'one')*** | Replace all values equal to 1 with ‘one’\n",
    "- ***s.replace([1,3],['one','three'])*** | Replace all 1 with ‘one’ and 3 with ‘three’\n",
    "- ***df.rename(columns=lambda x: x + 1)*** | Mass renaming of columns\n",
    "- ***df.rename(columns={'old_name': 'new_ name'})***| Selective renaming\n",
    "- ***df.set_index('column_one')*** | Change the index\n",
    "- ***df.rename(index=lambda x: x + 1)*** | Mass renaming of index\n",
    "\n",
    "\n"
   ]
  },
  {
   "cell_type": "markdown",
   "id": "c6221ecd",
   "metadata": {},
   "source": [
    "### unique/duplicate value\n",
    "\n",
    "- ***df['colname'].unique()*** | Find unique values of a column\n",
    "- ***df.value_counts()*** | Return a Series containing counts of unique rows in the DataFrame\n",
    "- ***df.duplicated()*** |Return boolean Series denoting duplicate rows\n",
    "- ***df.drop_duplicates()*** | Return DataFrame with duplicate rows removed"
   ]
  },
  {
   "cell_type": "markdown",
   "id": "43b3b925",
   "metadata": {},
   "source": [
    "### Join/Combine\n",
    "Use these commands to combine multiple dataframes into a single one.\n",
    "\n",
    "- ***df1.append(df2)*** | Add the rows in df1 to the end of df2 (columns should be identical)\n",
    "- ***pd.concat([df1, df2],axis=1)*** | Add the columns in df1 to the end of df2 (rows should be identical)\n",
    "- ***df1.join(df2,on=col1,how='inner')*** | SQL-style join the columns in df1 with the columns on df2 where the rows for col have identical values. 'how' can be one of 'left', 'right', 'outer', 'inner'\n",
    "- ***df1.merge(df2, how='inner', on='a')*** | Merge DataFrame or named Series objects with a database-style join."
   ]
  },
  {
   "cell_type": "markdown",
   "id": "3ef785e6",
   "metadata": {},
   "source": [
    "### Statistics\n",
    "Use these commands to perform various statistical tests. (These can all be applied to a series as well.)\n",
    "\n",
    "- ***df.describe()*** | Summary statistics for numerical columns\n",
    "- ***df.mean()*** | Returns the mean of all columns\n",
    "- ***df.corr()*** | Returns the correlation between columns in a DataFrame\n",
    "- ***df.count()*** | Returns the number of non-null values in each DataFrame column\n",
    "- ***df.max()*** | Returns the highest value in each column\n",
    "- ***df.min()*** | Returns the lowest value in each column\n",
    "- ***df.median()*** | Returns the median of each column\n",
    "- ***df.std()*** | Returns the standard deviation of each column"
   ]
  },
  {
   "cell_type": "markdown",
   "id": "4727c639",
   "metadata": {},
   "source": [
    "### Filter, Sort, and Groupby\n",
    "\n",
    "Use these commands to filter, sort, and group your data.\n",
    "\n",
    "- ***df[df[col] > 0.5]*** | Rows where the column col is greater than 0.5\n",
    "- ***df[(df[col] > 0.5) & (df[col] < 0.7)]*** | Rows where 0.7 > col > 0.5\n",
    "- ***df.sort_values(col1)*** | Sort values by col1 in ascending order\n",
    "- ***df.sort_values(col2,ascending=False)*** | Sort values by col2 in descending order\n",
    "- ***df.sort_values([col1,col2],ascending=[True,False])*** | Sort values by col1 in ascending order then col2 in descending order\n",
    "- ***df.groupby(col)*** | Returns a groupby object for values from one column\n",
    "- ***df.groupby([col1,col2])*** | Returns groupby object for values from multiple columns\n",
    "- ***df.groupby(col1)[col2]*** | Returns the mean of the values in col2, grouped by the values in col1 (mean can be replaced with almost any function from the statistics module)\n",
    "- ***df.pivot_table(index=col1,values=[col2,col3],aggfunc=mean)*** | Create a pivot table that groups by col1 and calculates the mean of col2 and col3\n",
    "- ***df.groupby(col1).agg(np.mean)*** | Find the average across all columns for every unique col1 group\n",
    "- ***df.apply(np.mean)*** | Apply the function np.mean() across each column\n",
    "- ***df.apply(np.sum, axis=1)*** | Apply the function np.sum() across each row"
   ]
  },
  {
   "cell_type": "markdown",
   "id": "9ac5d722",
   "metadata": {},
   "source": [
    "### References:\n",
    "- [1] https://www.dataquest.io/blog/pandas-cheat-sheet/\n",
    "- [2] https://pandas.pydata.org/docs/reference/index.html"
   ]
  },
  {
   "cell_type": "code",
   "execution_count": null,
   "id": "bddf4f49",
   "metadata": {},
   "outputs": [],
   "source": []
  }
 ],
 "metadata": {
  "kernelspec": {
   "display_name": "Python 3",
   "language": "python",
   "name": "python3"
  },
  "language_info": {
   "codemirror_mode": {
    "name": "ipython",
    "version": 3
   },
   "file_extension": ".py",
   "mimetype": "text/x-python",
   "name": "python",
   "nbconvert_exporter": "python",
   "pygments_lexer": "ipython3",
   "version": "3.7.3"
  }
 },
 "nbformat": 4,
 "nbformat_minor": 5
}

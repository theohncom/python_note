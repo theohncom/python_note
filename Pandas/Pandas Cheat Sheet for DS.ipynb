{
 "cells": [
  {
   "cell_type": "markdown",
   "id": "6fbd6bab",
   "metadata": {},
   "source": [
    "# Pandas Cheat Sheet for DS"
   ]
  },
  {
   "cell_type": "code",
   "execution_count": 2,
   "id": "6a2adbe6",
   "metadata": {},
   "outputs": [
    {
     "name": "stdout",
     "output_type": "stream",
     "text": [
      "3.7.3 (default, Apr 24 2019, 15:29:51) [MSC v.1915 64 bit (AMD64)]\n",
      "sys.version_info(major=3, minor=7, micro=3, releaselevel='final', serial=0)\n"
     ]
    }
   ],
   "source": [
    "import sys\n",
    "print(sys.version)\n",
    "print(sys.version_info)"
   ]
  },
  {
   "cell_type": "code",
   "execution_count": 3,
   "id": "975cc90f",
   "metadata": {},
   "outputs": [],
   "source": [
    "#import require libs\n",
    "import pandas as pd\n",
    "import numpy as np"
   ]
  },
  {
   "cell_type": "markdown",
   "id": "a5b3654d",
   "metadata": {},
   "source": [
    "### shorthand\n",
    "- __df__ | Any pandas DataFrame object\n",
    "- __s__ | Any pandas Series object"
   ]
  },
  {
   "cell_type": "markdown",
   "id": "b7261ddd",
   "metadata": {},
   "source": [
    "### Importing Data \n",
    "Pandas provides many commands to import data from a variety of different sources and formats.\n",
    "\n",
    "- ___pd.read_csv(filename)___ | From a CSV file\n",
    "- ___pd.read_table(filename)___ | From a delimited text file (like TSV)\n",
    "- ___pd.read_excel(filename)___ | From an Excel file\n",
    "- ___pd.read_sql(query, connection_object)___ | Read from a SQL table/database\n",
    "- ___pd.read_json(json_string)___ | Read from a JSON formatted string, URL or file.\n",
    "- ___pd.read_html(url)___ | Parses an html URL, string or file and extracts tables to a list of dataframes\n",
    "- ___pd.read_clipboard()___ | Takes the contents of your clipboard and passes it to read_table()\n",
    "- ___pd.DataFrame(dict)___ | From a dict, keys for columns names, values for data as lists"
   ]
  },
  {
   "cell_type": "markdown",
   "id": "a169ca64",
   "metadata": {},
   "source": [
    "### Exporting Data\n",
    "Pandas can export a DataFrame to CSV, .xlsx, SQL, or JSON.\n",
    "\n",
    "- ___df.to_csv(filename)___ | Write to a CSV file\n",
    "- ___df.to_excel(filename)___ | Write to an Excel file\n",
    "- ___df.to_sql(table_name, connection_object)___ | Write to a SQL table\n",
    "- ___df.to_json(filename)___ | Write to a file in JSON format"
   ]
  },
  {
   "cell_type": "markdown",
   "id": "f99d4cf6",
   "metadata": {},
   "source": [
    "### Viewing/Inspecting Data\n",
    "Use these commands to take a look at specific sections of your pandas DataFrame or Series.\n",
    "\n",
    "- ___df.head(n)___ | First n rows of the DataFrame\n",
    "- ___df.tail(n)___ | Last n rows of the DataFrame\n",
    "- ___df.shape___ | Number of rows and columns\n",
    "- ___df.dtypes___ | Datatype information\n",
    "- ___df.info()___ | Index, Datatype and Memory information\n",
    "- ___df.describe()___ | Summary statistics for numerical columns\n",
    "- ___s.value_counts(dropna=False)___ | View unique values and counts\n",
    "- ___df.apply(pd.Series.value_counts)___ | Unique values and counts for all columns"
   ]
  },
  {
   "cell_type": "markdown",
   "id": "e57bd704",
   "metadata": {},
   "source": [
    "### Selection\n",
    "Use these commands to select a specific subset of your data.\n",
    "\n",
    "- ___df[col]___ | Returns column with label col as Series\n",
    "- ___df[[col1, col2]]___ | Returns columns as a new DataFrame\n",
    "- ___s.iloc[0]___ | Selection by position\n",
    "- ___s.loc['index_one']___ | Selection by index\n",
    "- ___df.iloc[0,:]___ | First row\n",
    "- ___df.iloc[0,0]___ | First element of first column\n",
    "- ___df.iloc[0:2, 0:2]___| Selecting specific rows and cols  "
   ]
  },
  {
   "cell_type": "markdown",
   "id": "cce5a4e5",
   "metadata": {},
   "source": [
    "### Data Cleaning: check null, rename col, missing value handling\n",
    "Use these commands to perform a variety of data cleaning tasks.\n",
    "\n",
    "- ___df.columns = ['a','b','c']___ | Rename columns\n",
    "- ___pd.isnull()___ | Checks for null Values, Returns Boolean Arrray\n",
    "- ___df.isnull().any()___ | Checks if there is a null value in columns\n",
    "- ___df.isnull().sum()___ | Show number of null value in columns\n",
    "- ___pd.notnull()___ | Opposite of pd.isnull()\n",
    "- ___df.dropna()___ | Drop all rows that contain null values\n",
    "- ___df.dropna(axis=1)___ | Drop all columns that contain null values\n",
    "- ___df.dropna(axis=1,thresh=n)___ | Drop all rows have have less than n non null values\n",
    "- ___df.fillna(x)___ | Replace all null values with x\n",
    "- ___s.fillna(s.mean())___ | Replace all null values with the mean (mean can be replaced with almost any function from the statistics module)\n",
    "- ___s.astype(float)___ | Convert the datatype of the series to float\n",
    "- ___df.astype({\"Column_name\": str}, errors='raise')___ | Cast a pandas object to a specified dtype\n",
    "- ___s.replace(1,'one')___ | Replace all values equal to 1 with ‘one’\n",
    "- ___s.replace([1,3],['one','three'])___ | Replace all 1 with ‘one’ and 3 with ‘three’\n",
    "- ___df.rename(columns=lambda x: x + 1)___ | Mass renaming of columns\n",
    "- ___df.rename(columns={'old_name': 'new_ name'})__ | Selective renaming\n",
    "- ___df.set_index('column_one')___ | Change the index\n",
    "- ___df.rename(index=lambda x: x + 1)___ | Mass renaming of index\n",
    "\n",
    "\n"
   ]
  },
  {
   "cell_type": "markdown",
   "id": "b2bdd2a9",
   "metadata": {},
   "source": [
    "### unique/duplicate value\n",
    "\n",
    "- ___df['colname'].unique()___ | Find unique values of a column\n",
    "- ___df.value_counts()___ | Return a Series containing counts of unique rows in the DataFrame\n",
    "- ___df.duplicated()___ |Return boolean Series denoting duplicate rows\n",
    "- ___df.drop_duplicates()___ | Return DataFrame with duplicate rows removed"
   ]
  },
  {
   "cell_type": "markdown",
   "id": "01278d46",
   "metadata": {},
   "source": [
    "### Join/Combine\n",
    "Use these commands to combine multiple dataframes into a single one.\n",
    "\n",
    "- ___df1.append(df2)___ | Add the rows in df1 to the end of df2 (columns should be identical)\n",
    "- ___pd.concat([df1, df2],axis=1)___ | Add the columns in df1 to the end of df2 (rows should be identical)\n",
    "- ___df1.join(df2,on=col1,how='inner')___ | SQL-style join the columns in df1 with the columns on df2 where the rows for col have identical values. 'how' can be one of 'left', 'right', 'outer', 'inner'\n",
    "- ___df1.merge(df2, how='inner', on='a')___ | Merge DataFrame or named Series objects with a database-style join."
   ]
  },
  {
   "cell_type": "markdown",
   "id": "34fedbc3",
   "metadata": {},
   "source": [
    "### Statistics\n",
    "Use these commands to perform various statistical tests. (These can all be applied to a series as well.)\n",
    "\n",
    "- ___df.describe()___ | Summary statistics for numerical columns\n",
    "- ___df.mean()___ | Returns the mean of all columns\n",
    "- ___df.corr()___ | Returns the correlation between columns in a DataFrame\n",
    "- ___df.count()___ | Returns the number of non-null values in each DataFrame column\n",
    "- ___df.max()___ | Returns the highest value in each column\n",
    "- ___df.min()___ | Returns the lowest value in each column\n",
    "- ___df.median()___ | Returns the median of each column\n",
    "- ___df.std()___ | Returns the standard deviation of each column"
   ]
  },
  {
   "cell_type": "markdown",
   "id": "ae1ce806",
   "metadata": {},
   "source": [
    "### Filter, Sort, and Groupby\n",
    "\n",
    "Use these commands to filter, sort, and group your data.\n",
    "\n",
    "- ___df[df[col] > 0.5]___ | Rows where the column col is greater than 0.5\n",
    "- ___df[(df[col] > 0.5) & (df[col] < 0.7)]___ | Rows where 0.7 > col > 0.5\n",
    "- ___df.sort_values(col1)___ | Sort values by col1 in ascending order\n",
    "- ___df.sort_values(col2,ascending=False)___ | Sort values by col2 in descending order\n",
    "- ___df.sort_values([col1,col2],ascending=[True,False])___ | Sort values by col1 in ascending order then col2 in descending order\n",
    "- ___df.groupby(col)___ | Returns a groupby object for values from one column\n",
    "- ___df.groupby([col1,col2])___ | Returns groupby object for values from multiple columns\n",
    "- ___df.groupby(col1)[col2]___ | Returns the mean of the values in col2, grouped by the values in col1 (mean can be replaced with almost any function from the statistics module)\n",
    "- ___df.pivot_table(index=col1,values=[col2,col3],aggfunc=mean)___ | Create a pivot table that groups by col1 and calculates the mean of col2 and col3\n",
    "- __df.groupby(col1).agg(np.mean)__ | Find the average across all columns for every unique col1 group\n",
    "- ___df.apply(np.mean)___ | Apply the function np.mean() across each column\n",
    "- ___df.apply(np.sum, axis=1)___ | Apply the function np.sum() across each row"
   ]
  },
  {
   "cell_type": "markdown",
   "id": "6ec60e48",
   "metadata": {},
   "source": [
    "### References:\n",
    "- [1] https://www.dataquest.io/blog/pandas-cheat-sheet/\n",
    "- [2] https://pandas.pydata.org/docs/reference/index.html"
   ]
  },
  {
   "cell_type": "code",
   "execution_count": null,
   "id": "b8a78a95",
   "metadata": {},
   "outputs": [],
   "source": []
  }
 ],
 "metadata": {
  "kernelspec": {
   "display_name": "Python 3",
   "language": "python",
   "name": "python3"
  },
  "language_info": {
   "codemirror_mode": {
    "name": "ipython",
    "version": 3
   },
   "file_extension": ".py",
   "mimetype": "text/x-python",
   "name": "python",
   "nbconvert_exporter": "python",
   "pygments_lexer": "ipython3",
   "version": "3.7.3"
  }
 },
 "nbformat": 4,
 "nbformat_minor": 5
}
